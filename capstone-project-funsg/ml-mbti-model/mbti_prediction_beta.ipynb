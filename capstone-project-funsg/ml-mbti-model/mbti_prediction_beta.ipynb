{
 "cells": [
  {
   "cell_type": "code",
   "execution_count": 6,
   "metadata": {},
   "outputs": [],
   "source": [
    "import os\n",
    "import pandas as pd\n",
    "import optuna\n",
    "import matplotlib.pyplot as plt\n",
    "import torch\n",
    "from torch.utils.data import Dataset, DataLoader\n",
    "from torch.optim import AdamW \n",
    "from torch.amp import autocast, GradScaler\n",
    "\n",
    "from transformers import (\n",
    "    DistilBertTokenizer, \n",
    "    DistilBertForSequenceClassification, \n",
    "    DistilBertConfig,\n",
    "    get_linear_schedule_with_warmup \n",
    ")\n",
    "\n",
    "from sklearn.model_selection import train_test_split\n",
    "from sklearn.metrics import accuracy_score, f1_score\n",
    "from tqdm import tqdm"
   ]
  },
  {
   "cell_type": "code",
   "execution_count": 7,
   "metadata": {},
   "outputs": [
    {
     "name": "stdout",
     "output_type": "stream",
     "text": [
      "Using device: cuda\n"
     ]
    }
   ],
   "source": [
    "# Check for CUDA\n",
    "device = torch.device(\"cuda\" if torch.cuda.is_available() else \"cpu\")\n",
    "print(f\"Using device: {device}\")\n",
    "\n",
    "# Load and preprocess data\n",
    "df = pd.read_csv(\"MBTI_500.csv\")\n",
    "\n",
    "# Sample 1% of the data\n",
    "df_sampled = df.sample(frac=0.1, random_state=42) # <---SAMPLE-SIZE---------------------------------------------\n",
    "\n",
    "texts = df_sampled[\"posts\"].tolist()\n",
    "labels = df_sampled[\"type\"].tolist()\n",
    "\n",
    "# Create a mapping of MBTI types to numerical labels\n",
    "mbti_to_label = {mbti: i for i, mbti in enumerate(set(labels))}\n",
    "label_to_mbti = {i: mbti for mbti, i in mbti_to_label.items()}\n",
    "labels = [mbti_to_label[mbti] for mbti in labels]\n",
    "\n",
    "# Split the data\n",
    "train_texts, val_texts, train_labels, val_labels = train_test_split(texts, labels, test_size=0.2, random_state=42)\n",
    "\n",
    "# Create a custom dataset\n",
    "class MBTIDataset(Dataset):\n",
    "    def __init__(self, texts, labels, tokenizer, max_length):\n",
    "        self.texts = texts\n",
    "        self.labels = labels\n",
    "        self.tokenizer = tokenizer\n",
    "        self.max_length = max_length\n",
    "\n",
    "    def __len__(self):\n",
    "        return len(self.texts)\n",
    "\n",
    "    def __getitem__(self, idx):\n",
    "        text = self.texts[idx]\n",
    "        label = self.labels[idx]\n",
    "\n",
    "        encoding = self.tokenizer.encode_plus(\n",
    "            text,\n",
    "            add_special_tokens=True,\n",
    "            max_length=self.max_length,\n",
    "            return_token_type_ids=False,\n",
    "            padding=\"max_length\",\n",
    "            truncation=True,\n",
    "            return_attention_mask=True,\n",
    "            return_tensors=\"pt\",\n",
    "        )\n",
    "\n",
    "        return {\n",
    "            \"input_ids\": encoding[\"input_ids\"].flatten(),\n",
    "            \"attention_mask\": encoding[\"attention_mask\"].flatten(),\n",
    "            \"labels\": torch.tensor(label, dtype=torch.long)\n",
    "        }\n",
    "\n",
    "# Initialize tokenizer\n",
    "tokenizer = DistilBertTokenizer.from_pretrained(\"distilbert-base-uncased\")"
   ]
  },
  {
   "cell_type": "code",
   "execution_count": 8,
   "metadata": {},
   "outputs": [],
   "source": [
    "def train_and_evaluate(config):\n",
    "    # Initialize model\n",
    "    model_config = DistilBertConfig.from_pretrained(\n",
    "        \"distilbert-base-uncased\",\n",
    "        num_labels=len(mbti_to_label),\n",
    "        dropout=config['dropout_rate'],\n",
    "    )\n",
    "    model = DistilBertForSequenceClassification.from_pretrained(\n",
    "        \"distilbert-base-uncased\",\n",
    "        config=model_config,\n",
    "    )\n",
    "    model.to(device)\n",
    "\n",
    "    # Create datasets and dataloaders\n",
    "    train_dataset = MBTIDataset(train_texts, train_labels, tokenizer, config['max_seq_length'])\n",
    "    val_dataset = MBTIDataset(val_texts, val_labels, tokenizer, config['max_seq_length'])\n",
    "    train_loader = DataLoader(train_dataset, batch_size=config['batch_size'], shuffle=True, num_workers=4, pin_memory=True)\n",
    "    val_loader = DataLoader(val_dataset, batch_size=config['batch_size'], shuffle=False, num_workers=4, pin_memory=True)\n",
    "\n",
    "    # Initialize optimizer and scheduler\n",
    "    optimizer = AdamW(model.parameters(), lr=config['learning_rate'], weight_decay=config['weight_decay'])\n",
    "    \n",
    "    max_epochs = 7  # Fixed number of epochs for final training\n",
    "    total_steps = len(train_loader) * max_epochs\n",
    "    scheduler = get_linear_schedule_with_warmup(optimizer, num_warmup_steps=config['warmup_steps'], num_training_steps=total_steps)\n",
    "\n",
    "    scaler = GradScaler()\n",
    "    device_type = 'cuda' if torch.cuda.is_available() else 'cpu'\n",
    "\n",
    "    best_f1 = 0\n",
    "    best_epoch = 0\n",
    "    best_accuracy = 0\n",
    "    patience = 2\n",
    "    no_improve = 0\n",
    "    \n",
    "    train_losses = []\n",
    "    val_accuracies = []\n",
    "    val_f1_scores = []\n",
    "\n",
    "    for epoch in range(max_epochs):\n",
    "        model.train()\n",
    "        total_loss = 0\n",
    "        progress_bar = tqdm(train_loader, desc=f\"Epoch {epoch + 1}/{max_epochs}\")\n",
    "        for batch in progress_bar:\n",
    "            optimizer.zero_grad()\n",
    "            input_ids = batch[\"input_ids\"].to(device)\n",
    "            attention_mask = batch[\"attention_mask\"].to(device)\n",
    "            labels = batch[\"labels\"].to(device)\n",
    "            \n",
    "            with autocast(device_type=device_type):\n",
    "                outputs = model(input_ids, attention_mask=attention_mask, labels=labels)\n",
    "                loss = outputs.loss\n",
    "                total_loss += loss.item()\n",
    "\n",
    "            scaler.scale(loss).backward()\n",
    "            scaler.step(optimizer)\n",
    "            scaler.update()\n",
    "            scheduler.step()\n",
    "\n",
    "            progress_bar.set_postfix({\"Loss\": f\"{loss.item():.4f}\"})\n",
    "\n",
    "        avg_train_loss = total_loss / len(train_loader)\n",
    "        train_losses.append(avg_train_loss)\n",
    "        print(f\"Average train loss: {avg_train_loss:.4f}\")\n",
    "\n",
    "        # Evaluation\n",
    "        model.eval()\n",
    "        val_preds = []\n",
    "        val_true = []\n",
    "        with torch.no_grad():\n",
    "            for batch in tqdm(val_loader, desc=\"Validation\"):\n",
    "                input_ids = batch[\"input_ids\"].to(device)\n",
    "                attention_mask = batch[\"attention_mask\"].to(device)\n",
    "                labels = batch[\"labels\"].to(device)\n",
    "                \n",
    "                outputs = model(input_ids, attention_mask=attention_mask)\n",
    "                preds = torch.argmax(outputs.logits, dim=1)\n",
    "                val_preds.extend(preds.cpu().tolist())\n",
    "                val_true.extend(labels.cpu().tolist())\n",
    "\n",
    "        accuracy = accuracy_score(val_true, val_preds)\n",
    "        f1 = f1_score(val_true, val_preds, average=\"weighted\")\n",
    "            \n",
    "        val_accuracies.append(accuracy)\n",
    "        val_f1_scores.append(f1)\n",
    "        \n",
    "        print(f\"Validation Accuracy: {accuracy:.4f}\")\n",
    "        print(f\"Validation F1-score: {f1:.4f}\")\n",
    "\n",
    "        if f1 > best_f1:\n",
    "            best_f1 = f1\n",
    "            best_epoch = epoch\n",
    "            best_accuracy = accuracy\n",
    "            no_improve = 0\n",
    "            torch.save(model.state_dict(), 'best_model.pth')\n",
    "            \n",
    "            # Save the best results and metrics\n",
    "            best_results = {\n",
    "                'config': config,\n",
    "                'f1': best_f1,\n",
    "                'accuracy': best_accuracy,\n",
    "                'epoch': best_epoch,\n",
    "                'train_losses': train_losses,\n",
    "                'val_accuracies': val_accuracies,\n",
    "                'val_f1_scores': val_f1_scores\n",
    "            }\n",
    "            torch.save(best_results, 'best_results.pth')\n",
    "        else:\n",
    "            no_improve += 1\n",
    "\n",
    "        if no_improve == patience:\n",
    "            print(f\"Early stopping triggered after epoch {epoch + 1}\")\n",
    "            break\n",
    "        \n",
    "        # Clear CUDA cache\n",
    "        torch.cuda.empty_cache()\n",
    "\n",
    "    return best_f1, train_losses, val_accuracies, val_f1_scores, best_results"
   ]
  },
  {
   "cell_type": "code",
   "execution_count": 9,
   "metadata": {},
   "outputs": [],
   "source": [
    "# Optuna hyperperimeters (auto optimization framework)\n",
    "def objective(trial):\n",
    "    config = {\n",
    "        \n",
    "        # Suggest a learning rate for the optimizer. This controls how much to change the model's weights with respect to the loss gradient.\n",
    "        # It's important to choose an appropriate learning rate to ensure the model converges properly.\n",
    "        'learning_rate': trial.suggest_float('learning_rate', 1e-6, 1e-4, log=True),\n",
    "        \n",
    "        # Suggest a batch size for training. The batch size determines the number of samples processed before the model's internal parameters are updated.\n",
    "        # Larger batch sizes can lead to more stable gradient estimates but require more memory.\n",
    "        'batch_size': trial.suggest_categorical('batch_size', [8, 16, 32]),\n",
    "        \n",
    "        # Suggest the maximum sequence length. This determines the maximum length of the input sequences.\n",
    "        # Input sequences longer than this will be truncated, and shorter sequences will be padded.\n",
    "        'max_seq_length': trial.suggest_categorical('max_seq_length', [128, 256, 512]),\n",
    "        \n",
    "        # Suggest a dropout rate. Dropout is a regularization technique where randomly selected neurons are ignored during training.\n",
    "        # This helps prevent overfitting by making the network less sensitive to specific neurons.\n",
    "        'dropout_rate': trial.suggest_float('dropout_rate', 0.1, 0.5),\n",
    "        \n",
    "        # Suggest a weight decay value. Weight decay is a regularization technique that adds a penalty for large weights to the loss function.\n",
    "        # It helps prevent overfitting by encouraging the model to keep the weights small.\n",
    "        'weight_decay': trial.suggest_float('weight_decay', 1e-5, 1e-3, log=True),\n",
    "        \n",
    "        # Suggest the number of warmup steps. Warmup steps are the initial steps during which the learning rate is gradually increased to its set value.\n",
    "        # This helps in stabilizing the training process in the initial phase.\n",
    "        'warmup_steps': trial.suggest_int('warmup_steps', 100, 1000),\n",
    "        \n",
    "    }\n",
    "    \n",
    "    best_f1, _, _, _, _ = train_and_evaluate(config)\n",
    "    return best_f1"
   ]
  },
  {
   "cell_type": "code",
   "execution_count": 10,
   "metadata": {},
   "outputs": [
    {
     "name": "stderr",
     "output_type": "stream",
     "text": [
      "[I 2024-07-27 20:36:09,105] Using an existing study with name 'mbti_optimization' instead of creating a new one.\n",
      "Some weights of DistilBertForSequenceClassification were not initialized from the model checkpoint at distilbert-base-uncased and are newly initialized: ['classifier.bias', 'classifier.weight', 'pre_classifier.bias', 'pre_classifier.weight']\n",
      "You should probably TRAIN this model on a down-stream task to be able to use it for predictions and inference.\n",
      "Epoch 1/7: 100%|██████████| 1061/1061 [01:15<00:00, 13.97it/s, Loss=2.2654]\n"
     ]
    },
    {
     "name": "stdout",
     "output_type": "stream",
     "text": [
      "Average train loss: 2.2285\n"
     ]
    },
    {
     "name": "stderr",
     "output_type": "stream",
     "text": [
      "Validation: 100%|██████████| 266/266 [00:10<00:00, 25.90it/s]\n"
     ]
    },
    {
     "name": "stdout",
     "output_type": "stream",
     "text": [
      "Validation Accuracy: 0.4934\n",
      "Validation F1-score: 0.4368\n"
     ]
    },
    {
     "name": "stderr",
     "output_type": "stream",
     "text": [
      "Epoch 2/7: 100%|██████████| 1061/1061 [01:15<00:00, 14.07it/s, Loss=1.3882]\n"
     ]
    },
    {
     "name": "stdout",
     "output_type": "stream",
     "text": [
      "Average train loss: 1.5907\n"
     ]
    },
    {
     "name": "stderr",
     "output_type": "stream",
     "text": [
      "Validation: 100%|██████████| 266/266 [00:10<00:00, 24.73it/s]\n"
     ]
    },
    {
     "name": "stdout",
     "output_type": "stream",
     "text": [
      "Validation Accuracy: 0.6598\n",
      "Validation F1-score: 0.6175\n"
     ]
    },
    {
     "name": "stderr",
     "output_type": "stream",
     "text": [
      "Epoch 3/7: 100%|██████████| 1061/1061 [01:13<00:00, 14.44it/s, Loss=0.2839]\n"
     ]
    },
    {
     "name": "stdout",
     "output_type": "stream",
     "text": [
      "Average train loss: 1.2224\n"
     ]
    },
    {
     "name": "stderr",
     "output_type": "stream",
     "text": [
      "Validation: 100%|██████████| 266/266 [00:10<00:00, 25.52it/s]\n"
     ]
    },
    {
     "name": "stdout",
     "output_type": "stream",
     "text": [
      "Validation Accuracy: 0.7003\n",
      "Validation F1-score: 0.6715\n"
     ]
    },
    {
     "name": "stderr",
     "output_type": "stream",
     "text": [
      "Epoch 4/7: 100%|██████████| 1061/1061 [01:18<00:00, 13.52it/s, Loss=0.8908]\n"
     ]
    },
    {
     "name": "stdout",
     "output_type": "stream",
     "text": [
      "Average train loss: 1.0982\n"
     ]
    },
    {
     "name": "stderr",
     "output_type": "stream",
     "text": [
      "Validation: 100%|██████████| 266/266 [00:10<00:00, 26.23it/s]\n"
     ]
    },
    {
     "name": "stdout",
     "output_type": "stream",
     "text": [
      "Validation Accuracy: 0.7088\n",
      "Validation F1-score: 0.6830\n"
     ]
    },
    {
     "name": "stderr",
     "output_type": "stream",
     "text": [
      "Epoch 5/7: 100%|██████████| 1061/1061 [01:13<00:00, 14.42it/s, Loss=0.6229]\n"
     ]
    },
    {
     "name": "stdout",
     "output_type": "stream",
     "text": [
      "Average train loss: 1.0336\n"
     ]
    },
    {
     "name": "stderr",
     "output_type": "stream",
     "text": [
      "Validation: 100%|██████████| 266/266 [00:10<00:00, 26.34it/s]\n"
     ]
    },
    {
     "name": "stdout",
     "output_type": "stream",
     "text": [
      "Validation Accuracy: 0.7248\n",
      "Validation F1-score: 0.6990\n"
     ]
    },
    {
     "name": "stderr",
     "output_type": "stream",
     "text": [
      "Epoch 6/7: 100%|██████████| 1061/1061 [01:13<00:00, 14.38it/s, Loss=0.6431]\n"
     ]
    },
    {
     "name": "stdout",
     "output_type": "stream",
     "text": [
      "Average train loss: 0.9915\n"
     ]
    },
    {
     "name": "stderr",
     "output_type": "stream",
     "text": [
      "Validation: 100%|██████████| 266/266 [00:10<00:00, 26.21it/s]\n"
     ]
    },
    {
     "name": "stdout",
     "output_type": "stream",
     "text": [
      "Validation Accuracy: 0.7276\n",
      "Validation F1-score: 0.7030\n"
     ]
    },
    {
     "name": "stderr",
     "output_type": "stream",
     "text": [
      "Epoch 7/7: 100%|██████████| 1061/1061 [01:13<00:00, 14.39it/s, Loss=1.2350]\n"
     ]
    },
    {
     "name": "stdout",
     "output_type": "stream",
     "text": [
      "Average train loss: 0.9750\n"
     ]
    },
    {
     "name": "stderr",
     "output_type": "stream",
     "text": [
      "Validation: 100%|██████████| 266/266 [00:10<00:00, 26.21it/s]\n",
      "[I 2024-07-27 20:46:09,058] Trial 47 finished with value: 0.703006732741628 and parameters: {'learning_rate': 2.080989247644495e-06, 'batch_size': 8, 'max_seq_length': 512, 'dropout_rate': 0.12750849529932845, 'weight_decay': 1.0462566725787524e-05, 'warmup_steps': 155}. Best is trial 25 with value: 0.814281545553221.\n"
     ]
    },
    {
     "name": "stdout",
     "output_type": "stream",
     "text": [
      "Validation Accuracy: 0.7262\n",
      "Validation F1-score: 0.7009\n",
      "Best trial:\n",
      "  Value:  0.814281545553221\n",
      "  Params: \n",
      "    learning_rate: 2.480801070098954e-06\n",
      "    batch_size: 8\n",
      "    max_seq_length: 512\n",
      "    dropout_rate: 0.10003471505180982\n",
      "    weight_decay: 5.6230740885466525e-05\n",
      "    warmup_steps: 645\n"
     ]
    },
    {
     "name": "stderr",
     "output_type": "stream",
     "text": [
      "Some weights of DistilBertForSequenceClassification were not initialized from the model checkpoint at distilbert-base-uncased and are newly initialized: ['classifier.bias', 'classifier.weight', 'pre_classifier.bias', 'pre_classifier.weight']\n",
      "You should probably TRAIN this model on a down-stream task to be able to use it for predictions and inference.\n",
      "Epoch 1/7: 100%|██████████| 1061/1061 [01:15<00:00, 14.08it/s, Loss=2.4627]\n"
     ]
    },
    {
     "name": "stdout",
     "output_type": "stream",
     "text": [
      "Average train loss: 2.2848\n"
     ]
    },
    {
     "name": "stderr",
     "output_type": "stream",
     "text": [
      "Validation: 100%|██████████| 266/266 [00:10<00:00, 24.89it/s]\n"
     ]
    },
    {
     "name": "stdout",
     "output_type": "stream",
     "text": [
      "Validation Accuracy: 0.4222\n",
      "Validation F1-score: 0.3379\n"
     ]
    },
    {
     "name": "stderr",
     "output_type": "stream",
     "text": [
      "Epoch 2/7: 100%|██████████| 1061/1061 [01:16<00:00, 13.86it/s, Loss=0.5410]\n"
     ]
    },
    {
     "name": "stdout",
     "output_type": "stream",
     "text": [
      "Average train loss: 1.4657\n"
     ]
    },
    {
     "name": "stderr",
     "output_type": "stream",
     "text": [
      "Validation: 100%|██████████| 266/266 [00:10<00:00, 26.24it/s]\n"
     ]
    },
    {
     "name": "stdout",
     "output_type": "stream",
     "text": [
      "Validation Accuracy: 0.6843\n",
      "Validation F1-score: 0.6422\n"
     ]
    },
    {
     "name": "stderr",
     "output_type": "stream",
     "text": [
      "Epoch 3/7: 100%|██████████| 1061/1061 [01:16<00:00, 13.85it/s, Loss=1.6130]\n"
     ]
    },
    {
     "name": "stdout",
     "output_type": "stream",
     "text": [
      "Average train loss: 1.1274\n"
     ]
    },
    {
     "name": "stderr",
     "output_type": "stream",
     "text": [
      "Validation: 100%|██████████| 266/266 [00:10<00:00, 24.68it/s]\n"
     ]
    },
    {
     "name": "stdout",
     "output_type": "stream",
     "text": [
      "Validation Accuracy: 0.7168\n",
      "Validation F1-score: 0.6847\n"
     ]
    },
    {
     "name": "stderr",
     "output_type": "stream",
     "text": [
      "Epoch 4/7: 100%|██████████| 1061/1061 [01:14<00:00, 14.15it/s, Loss=0.8862]\n"
     ]
    },
    {
     "name": "stdout",
     "output_type": "stream",
     "text": [
      "Average train loss: 1.0046\n"
     ]
    },
    {
     "name": "stderr",
     "output_type": "stream",
     "text": [
      "Validation: 100%|██████████| 266/266 [00:10<00:00, 26.19it/s]\n"
     ]
    },
    {
     "name": "stdout",
     "output_type": "stream",
     "text": [
      "Validation Accuracy: 0.7399\n",
      "Validation F1-score: 0.7171\n"
     ]
    },
    {
     "name": "stderr",
     "output_type": "stream",
     "text": [
      "Epoch 5/7: 100%|██████████| 1061/1061 [01:14<00:00, 14.29it/s, Loss=0.4626]\n"
     ]
    },
    {
     "name": "stdout",
     "output_type": "stream",
     "text": [
      "Average train loss: 0.9387\n"
     ]
    },
    {
     "name": "stderr",
     "output_type": "stream",
     "text": [
      "Validation: 100%|██████████| 266/266 [00:10<00:00, 26.10it/s]\n"
     ]
    },
    {
     "name": "stdout",
     "output_type": "stream",
     "text": [
      "Validation Accuracy: 0.7370\n",
      "Validation F1-score: 0.7147\n"
     ]
    },
    {
     "name": "stderr",
     "output_type": "stream",
     "text": [
      "Epoch 6/7: 100%|██████████| 1061/1061 [01:14<00:00, 14.25it/s, Loss=1.1034]\n"
     ]
    },
    {
     "name": "stdout",
     "output_type": "stream",
     "text": [
      "Average train loss: 0.8862\n"
     ]
    },
    {
     "name": "stderr",
     "output_type": "stream",
     "text": [
      "Validation: 100%|██████████| 266/266 [00:10<00:00, 26.07it/s]\n"
     ]
    },
    {
     "name": "stdout",
     "output_type": "stream",
     "text": [
      "Validation Accuracy: 0.7455\n",
      "Validation F1-score: 0.7256\n"
     ]
    },
    {
     "name": "stderr",
     "output_type": "stream",
     "text": [
      "Epoch 7/7: 100%|██████████| 1061/1061 [01:14<00:00, 14.31it/s, Loss=0.4432]\n"
     ]
    },
    {
     "name": "stdout",
     "output_type": "stream",
     "text": [
      "Average train loss: 0.8695\n"
     ]
    },
    {
     "name": "stderr",
     "output_type": "stream",
     "text": [
      "Validation: 100%|██████████| 266/266 [00:10<00:00, 26.19it/s]\n"
     ]
    },
    {
     "name": "stdout",
     "output_type": "stream",
     "text": [
      "Validation Accuracy: 0.7455\n",
      "Validation F1-score: 0.7254\n",
      "Final F1-score with best parameters: 0.7255873299087396\n",
      "\n",
      "Best Model Results:\n",
      "  Best F1-score: 0.7256\n",
      "  Best Accuracy: 0.7455\n",
      "  Best Epoch: 5\n",
      "\n",
      "Best Configuration:\n",
      "  learning_rate: 2.480801070098954e-06\n",
      "  batch_size: 8\n",
      "  max_seq_length: 512\n",
      "  dropout_rate: 0.10003471505180982\n",
      "  weight_decay: 5.6230740885466525e-05\n",
      "  warmup_steps: 645\n"
     ]
    },
    {
     "name": "stderr",
     "output_type": "stream",
     "text": [
      "Some weights of DistilBertForSequenceClassification were not initialized from the model checkpoint at distilbert-base-uncased and are newly initialized: ['classifier.bias', 'classifier.weight', 'pre_classifier.bias', 'pre_classifier.weight']\n",
      "You should probably TRAIN this model on a down-stream task to be able to use it for predictions and inference.\n",
      "/tmp/ipykernel_802/3044872304.py:53: FutureWarning: You are using `torch.load` with `weights_only=False` (the current default value), which uses the default pickle module implicitly. It is possible to construct malicious pickle data which will execute arbitrary code during unpickling (See https://github.com/pytorch/pytorch/blob/main/SECURITY.md#untrusted-models for more details). In a future release, the default value for `weights_only` will be flipped to `True`. This limits the functions that could be executed during unpickling. Arbitrary objects will no longer be allowed to be loaded via this mode unless they are explicitly allowlisted by the user via `torch.serialization.add_safe_globals`. We recommend you start setting `weights_only=True` for any use case where you don't have full control of the loaded file. Please open an issue on GitHub for any issues related to this experimental feature.\n",
      "  best_model.load_state_dict(torch.load('best_model.pth'))\n"
     ]
    }
   ],
   "source": [
    "# Define the storage\n",
    "storage = optuna.storages.RDBStorage(\n",
    "    url=\"sqlite:///optuna_mbti_study.db\",\n",
    "    engine_kwargs={\"connect_args\": {\"timeout\": 100}}\n",
    ")\n",
    "\n",
    "# Create the study\n",
    "study = optuna.create_study(\n",
    "    study_name=\"mbti_optimization\",\n",
    "    storage=storage, \n",
    "    load_if_exists=True,\n",
    "    direction='maximize'\n",
    ")\n",
    "\n",
    "# Continue optimization\n",
    "study.optimize(objective, n_trials=1) # <-------------------------------------------------------\n",
    "\n",
    "print(\"Best trial:\")\n",
    "trial = study.best_trial\n",
    "print(\"  Value: \", trial.value)\n",
    "print(\"  Params: \")\n",
    "for key, value in trial.params.items():\n",
    "    print(\"    {}: {}\".format(key, value))\n",
    "\n",
    "# Train the final model with the best parameters\n",
    "best_config = study.best_params\n",
    "final_f1, _, _, _, best_results = train_and_evaluate(best_config)\n",
    "\n",
    "print(f\"Final F1-score with best parameters: {final_f1}\")\n",
    "\n",
    "# Load the best results (not necessary if you use the returned best_results)\n",
    "# best_results = torch.load('best_results.pth')\n",
    "\n",
    "print(\"\\nBest Model Results:\")\n",
    "print(f\"  Best F1-score: {best_results['f1']:.4f}\")\n",
    "print(f\"  Best Accuracy: {best_results['accuracy']:.4f}\")\n",
    "print(f\"  Best Epoch: {best_results['epoch']}\")\n",
    "print(\"\\nBest Configuration:\")\n",
    "for key, value in best_results['config'].items():\n",
    "    print(f\"  {key}: {value}\")\n",
    "\n",
    "# Load the best model\n",
    "config = DistilBertConfig.from_pretrained(\n",
    "    \"distilbert-base-uncased\",\n",
    "    num_labels=len(mbti_to_label),\n",
    "    dropout=best_results['config']['dropout_rate']\n",
    ")\n",
    "\n",
    "best_model = DistilBertForSequenceClassification.from_pretrained(\n",
    "    \"distilbert-base-uncased\",\n",
    "    config=config\n",
    ")\n",
    "best_model.load_state_dict(torch.load('best_model.pth'))\n",
    "best_model.to(device)\n",
    "\n",
    "# Function for activity recommendation\n",
    "def recommend_activity(activity_text):\n",
    "    encoding = tokenizer.encode_plus(\n",
    "        activity_text,\n",
    "        add_special_tokens=True,\n",
    "        max_length=best_results['config']['max_seq_length'],\n",
    "        return_token_type_ids=False,\n",
    "        padding=\"max_length\",\n",
    "        truncation=True,\n",
    "        return_attention_mask=True,\n",
    "        return_tensors=\"pt\",\n",
    "    )\n",
    "    \n",
    "    input_ids = encoding[\"input_ids\"].to(device)\n",
    "    attention_mask = encoding[\"attention_mask\"].to(device)\n",
    "    \n",
    "    with torch.no_grad():\n",
    "        outputs = best_model(input_ids, attention_mask=attention_mask)\n",
    "        pred = torch.argmax(outputs.logits, dim=1)\n",
    "    \n",
    "    predicted_mbti = label_to_mbti[pred.item()]\n",
    "    return predicted_mbti"
   ]
  },
  {
   "cell_type": "code",
   "execution_count": 11,
   "metadata": {},
   "outputs": [
    {
     "data": {
      "image/png": "[encoded data removed]",
      "text/plain": [
       "<Figure size 1200x400 with 3 Axes>"
      ]
     },
     "metadata": {},
     "output_type": "display_data"
    }
   ],
   "source": [
    "# Plot training progress\n",
    "train_losses = best_results['train_losses']\n",
    "val_accuracies = best_results['val_accuracies']\n",
    "val_f1_scores = best_results['val_f1_scores']\n",
    "\n",
    "plt.figure(figsize=(12, 4))\n",
    "plt.subplot(1, 3, 1)\n",
    "plt.plot(train_losses)\n",
    "plt.title(\"Training Loss\")\n",
    "plt.xlabel(\"Epoch\")\n",
    "plt.ylabel(\"Loss\")\n",
    "\n",
    "plt.subplot(1, 3, 2)\n",
    "plt.plot(val_accuracies)\n",
    "plt.title(\"Validation Accuracy\")\n",
    "plt.xlabel(\"Epoch\")\n",
    "plt.ylabel(\"Accuracy\")\n",
    "\n",
    "plt.subplot(1, 3, 3)\n",
    "plt.plot(val_f1_scores)\n",
    "plt.title(\"Validation F1-score\")\n",
    "plt.xlabel(\"Epoch\")\n",
    "plt.ylabel(\"F1-score\")\n",
    "\n",
    "plt.tight_layout()\n",
    "plt.savefig(\"training_progress.png\")\n",
    "plt.show()"
   ]
  },
  {
   "cell_type": "code",
   "execution_count": 12,
   "metadata": {},
   "outputs": [],
   "source": [
    "def recommend_activity(activity_title, activity_description=None):\n",
    "    max_length = best_results['config']['max_seq_length']  # Get max_length from the best configuration\n",
    "    \n",
    "    if activity_description:\n",
    "        combined_text = f\"{activity_title}: {activity_description}\"\n",
    "    else:\n",
    "        combined_text = activity_title\n",
    "    \n",
    "    encoding = tokenizer.encode_plus(\n",
    "        combined_text,\n",
    "        add_special_tokens=True,\n",
    "        max_length=max_length,\n",
    "        return_token_type_ids=False,\n",
    "        padding=\"max_length\",\n",
    "        truncation=True,\n",
    "        return_attention_mask=True,\n",
    "        return_tensors=\"pt\",\n",
    "    )\n",
    "    \n",
    "    input_ids = encoding[\"input_ids\"].to(device)\n",
    "    attention_mask = encoding[\"attention_mask\"].to(device)\n",
    "    \n",
    "    with torch.no_grad():\n",
    "        outputs = best_model(input_ids, attention_mask=attention_mask)\n",
    "        logits = outputs.logits\n",
    "        probabilities = torch.softmax(logits, dim=1)\n",
    "        \n",
    "        # Get top 2 predictions\n",
    "        top_probs, top_indices = torch.topk(probabilities, 2)\n",
    "        \n",
    "        primary_mbti = label_to_mbti[top_indices[0][0].item()]\n",
    "        secondary_mbti = label_to_mbti[top_indices[0][1].item()]\n",
    "        confidence = top_probs[0][0].item()\n",
    "        \n",
    "        # If the confidence is high, return only the primary MBTI\n",
    "        if confidence > 0.8:\n",
    "            return primary_mbti, None, confidence\n",
    "        else:\n",
    "            return primary_mbti, secondary_mbti, confidence"
   ]
  },
  {
   "cell_type": "code",
   "execution_count": 13,
   "metadata": {},
   "outputs": [
    {
     "name": "stdout",
     "output_type": "stream",
     "text": [
      "\n",
      "Activity: Strategic Planning Workshop\n",
      "Description: Join fellow visionaries for a strategic planning workshop focused on achieving long-term goals.\n",
      "Recommended MBTI types: INTJ and INTP\n",
      "Confidence: 0.10\n",
      "\n",
      "Activity: Science Fiction Film Screening\n",
      "Description: Enjoy a screening of classic and modern science fiction films followed by a discussion on futuristic concepts.\n",
      "Recommended MBTI types: INTP and INFP\n",
      "Confidence: 0.09\n",
      "\n",
      "Activity: Leadership Seminar\n",
      "Description: Participate in a seminar designed for aspiring leaders to enhance their management and leadership skills.\n",
      "Recommended MBTI types: INTJ and INTP\n",
      "Confidence: 0.11\n",
      "\n",
      "Activity: Innovative Startup Pitch Night at Singapore's One-North\n",
      "Description: Pitch your innovative startup ideas and receive feedback from experienced entrepreneurs.\n",
      "Recommended MBTI types: INTJ and INFP\n",
      "Confidence: 0.10\n",
      "\n",
      "Activity: Mindfulness and Meditation Session\n",
      "Description: Experience a serene mindfulness and meditation session to rejuvenate your mind and soul.\n",
      "Recommended MBTI types: INTP and INTJ\n",
      "Confidence: 0.10\n",
      "\n",
      "Activity: Poetry and Creative Writing Meetup\n",
      "Description: Express your creativity in our poetry and creative writing meetup. Share your work and get inspired by others.\n",
      "Recommended MBTI types: INTP and INTJ\n",
      "Confidence: 0.10\n",
      "\n",
      "Activity: Community Service and Outreach Program\n",
      "Description: Engage in community service and outreach to make a positive impact in your local neighborhood.\n",
      "Recommended MBTI types: INTJ and INTP\n",
      "Confidence: 0.11\n",
      "\n",
      "Activity: Art Therapy Workshop\n",
      "Description: Discover the therapeutic benefits of art in our guided art therapy workshop.\n",
      "Recommended MBTI types: INTP and INTJ\n",
      "Confidence: 0.10\n",
      "\n",
      "Activity: Historical Tour of Singapore's Colonial District\n",
      "Description: Explore Singapore's rich history with a guided tour of iconic landmarks and heritage sites.\n",
      "Recommended MBTI types: INTJ and INTP\n",
      "Confidence: 0.10\n",
      "\n",
      "Activity: Charity Bake Sale\n",
      "Description: Bake and sell delicious treats at our charity bake sale to support local causes.\n",
      "Recommended MBTI types: INTJ and INTP\n",
      "Confidence: 0.11\n",
      "\n",
      "Activity: Business Networking Event at Raffles Place\n",
      "Description: Network with professionals and expand your business connections at our networking event.\n",
      "Recommended MBTI types: INTJ and INTP\n",
      "Confidence: 0.10\n",
      "\n",
      "Activity: Social Dance Class\n",
      "Description: Learn and enjoy various dance styles in our social dance class. No prior experience required.\n",
      "Recommended MBTI types: INTP and INTJ\n",
      "Confidence: 0.11\n",
      "\n",
      "Activity: Adventure Sports Day\n",
      "Description: Challenge yourself with thrilling adventure sports activities in various locations around Singapore.\n",
      "Recommended MBTI types: INTP and INFP\n",
      "Confidence: 0.09\n",
      "\n",
      "Activity: Photography Walk at Marina Bay\n",
      "Description: Capture the beauty of Marina Bay in a photography walk and share your best shots with the group.\n",
      "Recommended MBTI types: INTJ and INTP\n",
      "Confidence: 0.09\n",
      "\n",
      "Activity: Urban Exploration Challenge: Uncovering Singapore's Hidden Gems\n",
      "Description: Compete in an exciting urban exploration challenge, discovering hidden gems around the city.\n",
      "Recommended MBTI types: INTJ and INFJ\n",
      "Confidence: 0.10\n",
      "\n",
      "Activity: Outdoor Music Festival\n",
      "Description: Enjoy live music performances from local and international artists at our outdoor music festival.\n",
      "Recommended MBTI types: INTP and INTJ\n",
      "Confidence: 0.10\n"
     ]
    }
   ],
   "source": [
    "# Example usage with lists\n",
    "activity_titles = [\n",
    "    \"Strategic Planning Workshop\", # INTJ\n",
    "    \"Science Fiction Film Screening\", # INTP\n",
    "    \"Leadership Seminar\", # ENTJ\n",
    "    \"Innovative Startup Pitch Night at Singapore's One-North\", # ENTP\n",
    "    \"Mindfulness and Meditation Session\", # INFJ\n",
    "    \"Poetry and Creative Writing Meetup\", # INFP\n",
    "    \"Community Service and Outreach Program\", # ENFJ\n",
    "    \"Art Therapy Workshop\", # ENFP\n",
    "    \"Historical Tour of Singapore's Colonial District\", # ISTJ\n",
    "    \"Charity Bake Sale\", # ISFJ\n",
    "    \"Business Networking Event at Raffles Place\", # ESTJ\n",
    "    \"Social Dance Class\", # ESFJ\n",
    "    \"Adventure Sports Day\", # ISTP\n",
    "    \"Photography Walk at Marina Bay\", # ISFP\n",
    "    \"Urban Exploration Challenge: Uncovering Singapore's Hidden Gems\", # ESTP\n",
    "    \"Outdoor Music Festival\" # ESFP\n",
    "]\n",
    "\n",
    "activity_descriptions = [\n",
    "    \"Join fellow visionaries for a strategic planning workshop focused on achieving long-term goals.\",\n",
    "    \"Enjoy a screening of classic and modern science fiction films followed by a discussion on futuristic concepts.\",\n",
    "    \"Participate in a seminar designed for aspiring leaders to enhance their management and leadership skills.\",\n",
    "    \"Pitch your innovative startup ideas and receive feedback from experienced entrepreneurs.\",\n",
    "    \"Experience a serene mindfulness and meditation session to rejuvenate your mind and soul.\",\n",
    "    \"Express your creativity in our poetry and creative writing meetup. Share your work and get inspired by others.\",\n",
    "    \"Engage in community service and outreach to make a positive impact in your local neighborhood.\",\n",
    "    \"Discover the therapeutic benefits of art in our guided art therapy workshop.\",\n",
    "    \"Explore Singapore's rich history with a guided tour of iconic landmarks and heritage sites.\",\n",
    "    \"Bake and sell delicious treats at our charity bake sale to support local causes.\",\n",
    "    \"Network with professionals and expand your business connections at our networking event.\",\n",
    "    \"Learn and enjoy various dance styles in our social dance class. No prior experience required.\",\n",
    "    \"Challenge yourself with thrilling adventure sports activities in various locations around Singapore.\",\n",
    "    \"Capture the beauty of Marina Bay in a photography walk and share your best shots with the group.\",\n",
    "    \"Compete in an exciting urban exploration challenge, discovering hidden gems around the city.\",\n",
    "    \"Enjoy live music performances from local and international artists at our outdoor music festival.\"\n",
    "]\n",
    "\n",
    "# Ensure the lists have the same length\n",
    "assert len(activity_titles) == len(activity_descriptions), \"Lists must have the same length\"\n",
    "\n",
    "for title, description in zip(activity_titles, activity_descriptions):\n",
    "    result = recommend_activity(title, description)\n",
    "\n",
    "    if len(result) == 3:\n",
    "        mbti, second_mbti, confidence = result\n",
    "        print(f\"\\nActivity: {title}\")\n",
    "        print(f\"Description: {description}\")\n",
    "        if second_mbti:\n",
    "            print(f\"Recommended MBTI types: {mbti} and {second_mbti}\")\n",
    "            print(f\"Confidence: {confidence:.2f}\")\n",
    "        else:\n",
    "            print(f\"Recommended MBTI type: {mbti}\")\n",
    "            print(f\"Confidence: {confidence:.2f}\")"
   ]
  },
  {
   "cell_type": "code",
   "execution_count": 14,
   "metadata": {},
   "outputs": [
    {
     "name": "stdout",
     "output_type": "stream",
     "text": [
      "The activity 'Ocean, Rose, Mountain, Sky' is recommended for MBTI types: INTP and INTJ\n",
      "Confidence: 0.11\n"
     ]
    }
   ],
   "source": [
    "# Example usage\n",
    "activity_title = \"Ocean, Rose, Mountain, Sky\"\n",
    "activity_description = \"\"\n",
    "\n",
    "result = recommend_activity(activity_title, activity_description)\n",
    "\n",
    "if len(result) == 3:\n",
    "    mbti, second_mbti, confidence = result\n",
    "    if second_mbti:\n",
    "        print(f\"The activity '{activity_title}' is recommended for MBTI types: {mbti} and {second_mbti}\")\n",
    "        print(f\"Confidence: {confidence:.2f}\")\n",
    "    else:\n",
    "        print(f\"The activity '{activity_title}' is recommended for MBTI type: {mbti}\")\n",
    "        print(f\"Confidence: {confidence:.2f}\")"
   ]
  },
  {
   "cell_type": "code",
   "execution_count": 15,
   "metadata": {},
   "outputs": [
    {
     "name": "stdout",
     "output_type": "stream",
     "text": [
      "INTJ: noun, [UNK], mutation, type, processor\n",
      "INTP: processor, noun, mutation, prefix, type\n",
      "ENTJ: noun, zulu, mb, [UNK], mutation\n",
      "ENTP: noun, processor, itself, type, prefix\n",
      "INFJ: noun, mutation, zulu, mb, type\n",
      "INFP: noun, zulu, language, word, mb\n",
      "ENFJ: noun, zulu, mutation, mb, mate\n",
      "ENFP: noun, zulu, word, language, mb\n",
      "ISTJ: noun, zulu, [UNK], mate, prefix\n",
      "ISFJ: zulu, noun, mb, type, mutation\n",
      "ESTJ: noun, mate, zulu, [UNK], mutation\n",
      "ESFJ: zulu, noun, mate, mutation, mb\n",
      "ISTP: noun, processor, prefix, zulu, language\n",
      "ISFP: noun, zulu, language, word, mb\n",
      "ESTP: noun, mutation, prefix, language, mate\n",
      "ESFP: processor, zulu, mate, noun, type\n"
     ]
    }
   ],
   "source": [
    "import torch\n",
    "from transformers import DistilBertTokenizer, DistilBertForMaskedLM\n",
    "\n",
    "# Make sure to use the same tokenizer as you used for training\n",
    "tokenizer = DistilBertTokenizer.from_pretrained(\"distilbert-base-uncased\")\n",
    "\n",
    "# Load the masked language model\n",
    "mlm_model = DistilBertForMaskedLM.from_pretrained(\"distilbert-base-uncased\")\n",
    "mlm_model.to(device)\n",
    "mlm_model.eval()\n",
    "\n",
    "def generate_associated_words(mbti_type, num_words=5):\n",
    "    # Create a template sentence\n",
    "    template = f\"People with MBTI type {mbti_type} strongly associate with the word [MASK].\"\n",
    "    \n",
    "    # Tokenize the template\n",
    "    inputs = tokenizer(template, return_tensors=\"pt\")\n",
    "    inputs = {k: v.to(device) for k, v in inputs.items()}\n",
    "    \n",
    "    # Find the position of the [MASK] token\n",
    "    mask_token_index = torch.where(inputs[\"input_ids\"] == tokenizer.mask_token_id)[1]\n",
    "    \n",
    "    associated_words = []\n",
    "    \n",
    "    with torch.no_grad():\n",
    "        for _ in range(num_words):\n",
    "            outputs = mlm_model(**inputs)\n",
    "            logits = outputs.logits\n",
    "            \n",
    "            # Get the logits for the mask token\n",
    "            mask_token_logits = logits[0, mask_token_index, :]\n",
    "            \n",
    "            # Remove previously selected words\n",
    "            for word in associated_words:\n",
    "                word_id = tokenizer.encode(word, add_special_tokens=False)[0]\n",
    "                mask_token_logits[0, word_id] = float('-inf')\n",
    "            \n",
    "            # Get the top predicted token\n",
    "            top_token = torch.argmax(mask_token_logits, dim=1)\n",
    "            \n",
    "            # Convert token to word\n",
    "            predicted_token = top_token.item()  # Convert to Python integer\n",
    "            predicted_word = tokenizer.decode([predicted_token])\n",
    "            associated_words.append(predicted_word)\n",
    "    \n",
    "    return associated_words\n",
    "\n",
    "# List of all 16 MBTI types\n",
    "mbti_types = [\n",
    "    \"INTJ\", \"INTP\", \"ENTJ\", \"ENTP\",\n",
    "    \"INFJ\", \"INFP\", \"ENFJ\", \"ENFP\",\n",
    "    \"ISTJ\", \"ISFJ\", \"ESTJ\", \"ESFJ\",\n",
    "    \"ISTP\", \"ISFP\", \"ESTP\", \"ESFP\"\n",
    "]\n",
    "\n",
    "# Generate associated words for each MBTI type\n",
    "for mbti in mbti_types:\n",
    "    words = generate_associated_words(mbti)\n",
    "    print(f\"{mbti}: {', '.join(words)}\")"
   ]
  },
  {
   "cell_type": "code",
   "execution_count": 25,
   "metadata": {},
   "outputs": [
    {
     "name": "stdout",
     "output_type": "stream",
     "text": [
      "Training final model with best parameters...\n",
      "Best parameters: {'learning_rate': 2.480801070098954e-06, 'batch_size': 8, 'max_seq_length': 512, 'dropout_rate': 0.10003471505180982, 'weight_decay': 5.6230740885466525e-05, 'warmup_steps': 645}\n"
     ]
    },
    {
     "name": "stderr",
     "output_type": "stream",
     "text": [
      "Some weights of DistilBertForSequenceClassification were not initialized from the model checkpoint at distilbert-base-uncased and are newly initialized: ['classifier.bias', 'classifier.weight', 'pre_classifier.bias', 'pre_classifier.weight']\n",
      "You should probably TRAIN this model on a down-stream task to be able to use it for predictions and inference.\n",
      "Epoch 1/30: 100%|██████████| 10607/10607 [12:04<00:00, 14.64it/s, Loss=0.6169]\n"
     ]
    },
    {
     "name": "stdout",
     "output_type": "stream",
     "text": [
      "Epoch 1/30, Average train loss: 1.1079\n"
     ]
    },
    {
     "name": "stderr",
     "output_type": "stream",
     "text": [
      "Validation: 100%|██████████| 2652/2652 [01:38<00:00, 26.99it/s]\n"
     ]
    },
    {
     "name": "stdout",
     "output_type": "stream",
     "text": [
      "Validation Accuracy: 0.7889\n",
      "Validation F1-score: 0.7820\n"
     ]
    },
    {
     "name": "stderr",
     "output_type": "stream",
     "text": [
      "Epoch 2/30: 100%|██████████| 10607/10607 [12:03<00:00, 14.66it/s, Loss=0.2391]\n"
     ]
    },
    {
     "name": "stdout",
     "output_type": "stream",
     "text": [
      "Epoch 2/30, Average train loss: 0.6715\n"
     ]
    },
    {
     "name": "stderr",
     "output_type": "stream",
     "text": [
      "Validation: 100%|██████████| 2652/2652 [01:38<00:00, 27.05it/s]\n"
     ]
    },
    {
     "name": "stdout",
     "output_type": "stream",
     "text": [
      "Validation Accuracy: 0.8108\n",
      "Validation F1-score: 0.8100\n"
     ]
    },
    {
     "name": "stderr",
     "output_type": "stream",
     "text": [
      "Epoch 3/30: 100%|██████████| 10607/10607 [12:04<00:00, 14.65it/s, Loss=0.2637] \n"
     ]
    },
    {
     "name": "stdout",
     "output_type": "stream",
     "text": [
      "Epoch 3/30, Average train loss: 0.5810\n"
     ]
    },
    {
     "name": "stderr",
     "output_type": "stream",
     "text": [
      "Validation: 100%|██████████| 2652/2652 [01:37<00:00, 27.13it/s]\n"
     ]
    },
    {
     "name": "stdout",
     "output_type": "stream",
     "text": [
      "Validation Accuracy: 0.8144\n",
      "Validation F1-score: 0.8144\n"
     ]
    },
    {
     "name": "stderr",
     "output_type": "stream",
     "text": [
      "Epoch 4/30: 100%|██████████| 10607/10607 [11:59<00:00, 14.75it/s, Loss=0.1499]\n"
     ]
    },
    {
     "name": "stdout",
     "output_type": "stream",
     "text": [
      "Epoch 4/30, Average train loss: 0.5186\n"
     ]
    },
    {
     "name": "stderr",
     "output_type": "stream",
     "text": [
      "Validation: 100%|██████████| 2652/2652 [01:37<00:00, 27.16it/s]\n"
     ]
    },
    {
     "name": "stdout",
     "output_type": "stream",
     "text": [
      "Validation Accuracy: 0.8344\n",
      "Validation F1-score: 0.8342\n"
     ]
    },
    {
     "name": "stderr",
     "output_type": "stream",
     "text": [
      "Epoch 5/30: 100%|██████████| 10607/10607 [11:58<00:00, 14.77it/s, Loss=0.0770]\n"
     ]
    },
    {
     "name": "stdout",
     "output_type": "stream",
     "text": [
      "Epoch 5/30, Average train loss: 0.4702\n"
     ]
    },
    {
     "name": "stderr",
     "output_type": "stream",
     "text": [
      "Validation: 100%|██████████| 2652/2652 [01:37<00:00, 27.23it/s]\n"
     ]
    },
    {
     "name": "stdout",
     "output_type": "stream",
     "text": [
      "Validation Accuracy: 0.8375\n",
      "Validation F1-score: 0.8371\n"
     ]
    },
    {
     "name": "stderr",
     "output_type": "stream",
     "text": [
      "Epoch 6/30: 100%|██████████| 10607/10607 [11:56<00:00, 14.81it/s, Loss=0.7089]\n"
     ]
    },
    {
     "name": "stdout",
     "output_type": "stream",
     "text": [
      "Epoch 6/30, Average train loss: 0.4313\n"
     ]
    },
    {
     "name": "stderr",
     "output_type": "stream",
     "text": [
      "Validation: 100%|██████████| 2652/2652 [01:37<00:00, 27.27it/s]\n"
     ]
    },
    {
     "name": "stdout",
     "output_type": "stream",
     "text": [
      "Validation Accuracy: 0.8451\n",
      "Validation F1-score: 0.8446\n"
     ]
    },
    {
     "name": "stderr",
     "output_type": "stream",
     "text": [
      "Epoch 7/30: 100%|██████████| 10607/10607 [11:56<00:00, 14.81it/s, Loss=0.6251]\n"
     ]
    },
    {
     "name": "stdout",
     "output_type": "stream",
     "text": [
      "Epoch 7/30, Average train loss: 0.3896\n"
     ]
    },
    {
     "name": "stderr",
     "output_type": "stream",
     "text": [
      "Validation: 100%|██████████| 2652/2652 [01:36<00:00, 27.43it/s]\n"
     ]
    },
    {
     "name": "stdout",
     "output_type": "stream",
     "text": [
      "Validation Accuracy: 0.8471\n",
      "Validation F1-score: 0.8468\n"
     ]
    },
    {
     "name": "stderr",
     "output_type": "stream",
     "text": [
      "Epoch 8/30: 100%|██████████| 10607/10607 [11:59<00:00, 14.75it/s, Loss=1.1793]\n"
     ]
    },
    {
     "name": "stdout",
     "output_type": "stream",
     "text": [
      "Epoch 8/30, Average train loss: 0.3592\n"
     ]
    },
    {
     "name": "stderr",
     "output_type": "stream",
     "text": [
      "Validation: 100%|██████████| 2652/2652 [01:38<00:00, 27.04it/s]\n"
     ]
    },
    {
     "name": "stdout",
     "output_type": "stream",
     "text": [
      "Validation Accuracy: 0.8426\n",
      "Validation F1-score: 0.8431\n"
     ]
    },
    {
     "name": "stderr",
     "output_type": "stream",
     "text": [
      "Epoch 9/30: 100%|██████████| 10607/10607 [12:12<00:00, 14.48it/s, Loss=0.0096]\n"
     ]
    },
    {
     "name": "stdout",
     "output_type": "stream",
     "text": [
      "Epoch 9/30, Average train loss: 0.3265\n"
     ]
    },
    {
     "name": "stderr",
     "output_type": "stream",
     "text": [
      "Validation: 100%|██████████| 2652/2652 [01:38<00:00, 27.06it/s]\n"
     ]
    },
    {
     "name": "stdout",
     "output_type": "stream",
     "text": [
      "Validation Accuracy: 0.8479\n",
      "Validation F1-score: 0.8475\n"
     ]
    },
    {
     "name": "stderr",
     "output_type": "stream",
     "text": [
      "Epoch 10/30: 100%|██████████| 10607/10607 [12:12<00:00, 14.49it/s, Loss=0.4983]\n"
     ]
    },
    {
     "name": "stdout",
     "output_type": "stream",
     "text": [
      "Epoch 10/30, Average train loss: 0.2981\n"
     ]
    },
    {
     "name": "stderr",
     "output_type": "stream",
     "text": [
      "Validation: 100%|██████████| 2652/2652 [01:37<00:00, 27.09it/s]\n"
     ]
    },
    {
     "name": "stdout",
     "output_type": "stream",
     "text": [
      "Validation Accuracy: 0.8474\n",
      "Validation F1-score: 0.8476\n"
     ]
    },
    {
     "name": "stderr",
     "output_type": "stream",
     "text": [
      "Epoch 11/30: 100%|██████████| 10607/10607 [12:08<00:00, 14.55it/s, Loss=0.4947]\n"
     ]
    },
    {
     "name": "stdout",
     "output_type": "stream",
     "text": [
      "Epoch 11/30, Average train loss: 0.2708\n"
     ]
    },
    {
     "name": "stderr",
     "output_type": "stream",
     "text": [
      "Validation: 100%|██████████| 2652/2652 [01:37<00:00, 27.14it/s]\n"
     ]
    },
    {
     "name": "stdout",
     "output_type": "stream",
     "text": [
      "Validation Accuracy: 0.8458\n",
      "Validation F1-score: 0.8454\n"
     ]
    },
    {
     "name": "stderr",
     "output_type": "stream",
     "text": [
      "Epoch 12/30: 100%|██████████| 10607/10607 [12:08<00:00, 14.55it/s, Loss=0.0039]\n"
     ]
    },
    {
     "name": "stdout",
     "output_type": "stream",
     "text": [
      "Epoch 12/30, Average train loss: 0.2464\n"
     ]
    },
    {
     "name": "stderr",
     "output_type": "stream",
     "text": [
      "Validation: 100%|██████████| 2652/2652 [01:37<00:00, 27.18it/s]\n"
     ]
    },
    {
     "name": "stdout",
     "output_type": "stream",
     "text": [
      "Validation Accuracy: 0.8507\n",
      "Validation F1-score: 0.8501\n"
     ]
    },
    {
     "name": "stderr",
     "output_type": "stream",
     "text": [
      "Epoch 13/30: 100%|██████████| 10607/10607 [12:09<00:00, 14.54it/s, Loss=0.0438]\n"
     ]
    },
    {
     "name": "stdout",
     "output_type": "stream",
     "text": [
      "Epoch 13/30, Average train loss: 0.2250\n"
     ]
    },
    {
     "name": "stderr",
     "output_type": "stream",
     "text": [
      "Validation: 100%|██████████| 2652/2652 [01:37<00:00, 27.25it/s]\n"
     ]
    },
    {
     "name": "stdout",
     "output_type": "stream",
     "text": [
      "Validation Accuracy: 0.8456\n",
      "Validation F1-score: 0.8458\n"
     ]
    },
    {
     "name": "stderr",
     "output_type": "stream",
     "text": [
      "Epoch 14/30: 100%|██████████| 10607/10607 [12:10<00:00, 14.52it/s, Loss=0.2511]\n"
     ]
    },
    {
     "name": "stdout",
     "output_type": "stream",
     "text": [
      "Epoch 14/30, Average train loss: 0.2008\n"
     ]
    },
    {
     "name": "stderr",
     "output_type": "stream",
     "text": [
      "Validation: 100%|██████████| 2652/2652 [01:37<00:00, 27.19it/s]\n"
     ]
    },
    {
     "name": "stdout",
     "output_type": "stream",
     "text": [
      "Validation Accuracy: 0.8415\n",
      "Validation F1-score: 0.8422\n"
     ]
    },
    {
     "name": "stderr",
     "output_type": "stream",
     "text": [
      "Epoch 15/30: 100%|██████████| 10607/10607 [12:21<00:00, 14.30it/s, Loss=0.3176]\n"
     ]
    },
    {
     "name": "stdout",
     "output_type": "stream",
     "text": [
      "Epoch 15/30, Average train loss: 0.1827\n"
     ]
    },
    {
     "name": "stderr",
     "output_type": "stream",
     "text": [
      "Validation: 100%|██████████| 2652/2652 [01:36<00:00, 27.40it/s]\n",
      "/tmp/ipykernel_802/2168726522.py:104: FutureWarning: You are using `torch.load` with `weights_only=False` (the current default value), which uses the default pickle module implicitly. It is possible to construct malicious pickle data which will execute arbitrary code during unpickling (See https://github.com/pytorch/pytorch/blob/main/SECURITY.md#untrusted-models for more details). In a future release, the default value for `weights_only` will be flipped to `True`. This limits the functions that could be executed during unpickling. Arbitrary objects will no longer be allowed to be loaded via this mode unless they are explicitly allowlisted by the user via `torch.serialization.add_safe_globals`. We recommend you start setting `weights_only=True` for any use case where you don't have full control of the loaded file. Please open an issue on GitHub for any issues related to this experimental feature.\n",
      "  model.load_state_dict(torch.load('best_final_model.pth'))\n"
     ]
    },
    {
     "name": "stdout",
     "output_type": "stream",
     "text": [
      "Validation Accuracy: 0.8406\n",
      "Validation F1-score: 0.8416\n",
      "Early stopping triggered after epoch 15\n",
      "Final model trained and saved.\n"
     ]
    }
   ],
   "source": [
    "# Prompt user for confirmation\n",
    "user_input = input(\"Train the final model with the best parameters? (Y/N): \")\n",
    "\n",
    "if user_input.lower() == 'y':\n",
    "    print(\"Training final model with best parameters...\")\n",
    "    best_params = study.best_params\n",
    "    print(\"Best parameters:\", best_params)\n",
    "\n",
    "    num_epochs = 30\n",
    "\n",
    "    def train_final_model(best_params, full_dataset, num_epochs):\n",
    "        # Initialize model\n",
    "        model_config = DistilBertConfig.from_pretrained(\n",
    "            \"distilbert-base-uncased\",\n",
    "            num_labels=len(mbti_to_label),\n",
    "            dropout=best_params['dropout_rate'],\n",
    "        )\n",
    "        model = DistilBertForSequenceClassification.from_pretrained(\n",
    "            \"distilbert-base-uncased\",\n",
    "            config=model_config,\n",
    "        )\n",
    "        model.to(device)\n",
    "\n",
    "        # Create datasets and dataloaders\n",
    "        dataset = MBTIDataset(full_dataset['texts'], full_dataset['labels'], tokenizer, best_params['max_seq_length'])\n",
    "        train_size = int(0.8 * len(dataset))\n",
    "        val_size = len(dataset) - train_size\n",
    "        train_dataset, val_dataset = torch.utils.data.random_split(dataset, [train_size, val_size])\n",
    "        \n",
    "        train_loader = DataLoader(train_dataset, batch_size=best_params['batch_size'], shuffle=True, num_workers=4, pin_memory=True)\n",
    "        val_loader = DataLoader(val_dataset, batch_size=best_params['batch_size'], shuffle=False, num_workers=4, pin_memory=True)\n",
    "\n",
    "        # Initialize optimizer and scheduler\n",
    "        optimizer = AdamW(model.parameters(), lr=best_params['learning_rate'], weight_decay=best_params['weight_decay'])\n",
    "        \n",
    "        total_steps = len(train_loader) * num_epochs\n",
    "        scheduler = get_linear_schedule_with_warmup(optimizer, num_warmup_steps=best_params['warmup_steps'], num_training_steps=total_steps)\n",
    "\n",
    "        scaler = GradScaler()\n",
    "\n",
    "        best_val_f1 = 0\n",
    "        patience = 3\n",
    "        no_improve = 0\n",
    "\n",
    "        for epoch in range(num_epochs):\n",
    "            model.train()\n",
    "            total_loss = 0\n",
    "            progress_bar = tqdm(train_loader, desc=f\"Epoch {epoch + 1}/{num_epochs}\")\n",
    "            for batch in progress_bar:\n",
    "                optimizer.zero_grad()\n",
    "                input_ids = batch[\"input_ids\"].to(device)\n",
    "                attention_mask = batch[\"attention_mask\"].to(device)\n",
    "                labels = batch[\"labels\"].to(device)\n",
    "                \n",
    "                with torch.amp.autocast(device_type='cuda'):\n",
    "                    outputs = model(input_ids, attention_mask=attention_mask, labels=labels)\n",
    "                    loss = outputs.loss\n",
    "\n",
    "                scaler.scale(loss).backward()\n",
    "                scaler.step(optimizer)\n",
    "                scaler.update()\n",
    "                scheduler.step()\n",
    "\n",
    "                total_loss += loss.item()\n",
    "                progress_bar.set_postfix({\"Loss\": f\"{loss.item():.4f}\"})\n",
    "\n",
    "            avg_train_loss = total_loss / len(train_loader)\n",
    "            print(f\"Epoch {epoch + 1}/{num_epochs}, Average train loss: {avg_train_loss:.4f}\")\n",
    "\n",
    "            # Validation\n",
    "            model.eval()\n",
    "            val_preds = []\n",
    "            val_true = []\n",
    "            with torch.no_grad():\n",
    "                for batch in tqdm(val_loader, desc=\"Validation\"):\n",
    "                    input_ids = batch[\"input_ids\"].to(device)\n",
    "                    attention_mask = batch[\"attention_mask\"].to(device)\n",
    "                    labels = batch[\"labels\"].to(device)\n",
    "                    \n",
    "                    outputs = model(input_ids, attention_mask=attention_mask)\n",
    "                    preds = torch.argmax(outputs.logits, dim=1)\n",
    "                    val_preds.extend(preds.cpu().tolist())\n",
    "                    val_true.extend(labels.cpu().tolist())\n",
    "\n",
    "            accuracy = accuracy_score(val_true, val_preds)\n",
    "            f1 = f1_score(val_true, val_preds, average=\"weighted\")\n",
    "            \n",
    "            print(f\"Validation Accuracy: {accuracy:.4f}\")\n",
    "            print(f\"Validation F1-score: {f1:.4f}\")\n",
    "\n",
    "            # Early stopping\n",
    "            if f1 > best_val_f1:\n",
    "                best_val_f1 = f1\n",
    "                no_improve = 0\n",
    "                torch.save(model.state_dict(), 'best_final_model.pth')\n",
    "            else:\n",
    "                no_improve += 1\n",
    "\n",
    "            if no_improve == patience:\n",
    "                print(f\"Early stopping triggered after epoch {epoch + 1}\")\n",
    "                break\n",
    "\n",
    "        # Load the best model before returning\n",
    "        model.load_state_dict(torch.load('best_final_model.pth'))\n",
    "        return model\n",
    "\n",
    "    # Prepare your full dataset\n",
    "    full_dataset = {\n",
    "        'texts': df[\"posts\"].tolist(),\n",
    "        'labels': [mbti_to_label[mbti] for mbti in df[\"type\"].tolist()]\n",
    "    }\n",
    "\n",
    "    # Train the final model\n",
    "    final_model = train_final_model(best_params, full_dataset, num_epochs)\n",
    "\n",
    "    # Save the final model\n",
    "    torch.save(final_model.state_dict(), 'final_mbti_model.pth')\n",
    "\n",
    "    print(\"Final model trained and saved.\")\n",
    "\n",
    "else:\n",
    "    print(\"Final model training cancelled.\")"
   ]
  },
  {
   "cell_type": "code",
   "execution_count": 27,
   "metadata": {},
   "outputs": [
    {
     "name": "stdout",
     "output_type": "stream",
     "text": [
      "Predicted MBTI for example text: INTJ\n"
     ]
    }
   ],
   "source": [
    "def predict_mbti(text, model, tokenizer):\n",
    "    model.eval()\n",
    "    inputs = tokenizer(text, return_tensors=\"pt\", truncation=True, padding=True, max_length=best_params['max_seq_length'])\n",
    "    inputs = {k: v.to(device) for k, v in inputs.items()}\n",
    "    \n",
    "    with torch.no_grad():\n",
    "        outputs = model(**inputs)\n",
    "        prediction = torch.argmax(outputs.logits, dim=1).item()\n",
    "    \n",
    "    return label_to_mbti[prediction]\n",
    "\n",
    "# Example usage\n",
    "text = \"I enjoy solving complex problems and working independently.\"\n",
    "predicted_mbti = predict_mbti(text, final_model, tokenizer)\n",
    "print(f\"Predicted MBTI for example text: {predicted_mbti}\")"
   ]
  }
 ],
 "metadata": {
  "kernelspec": {
   "display_name": "base",
   "language": "python",
   "name": "python3"
  },
  "language_info": {
   "codemirror_mode": {
    "name": "ipython",
    "version": 3
   },
   "file_extension": ".py",
   "mimetype": "text/x-python",
   "name": "python",
   "nbconvert_exporter": "python",
   "pygments_lexer": "ipython3",
   "version": "3.10.12"
  }
 },
 "nbformat": 4,
 "nbformat_minor": 2
}
